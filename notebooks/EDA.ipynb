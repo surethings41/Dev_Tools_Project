{
 "cells": [
  {
   "cell_type": "code",
   "execution_count": null,
   "metadata": {},
   "outputs": [
    {
     "name": "stdout",
     "output_type": "stream",
     "text": [
      "   price model_year           model  condition cylinders fuel  odometer  \\\n",
      "2   9400     2011.0          bmw x5       good         6  gas  145000.0   \n",
      "3  25500        NaN      ford f-150       good         6  gas   88705.0   \n",
      "4   5500     2013.0  hyundai sonata   like new         4  gas  110000.0   \n",
      "5   1500     2003.0      ford f-150       fair         8  gas       NaN   \n",
      "6  14900     2017.0    chrysler 200  excellent         4  gas   80903.0   \n",
      "\n",
      "  transmission    type paint_color is_4wd date_posted days_listed manufacturer  \n",
      "2    automatic     SUV         NaN    1.0  2018-06-23          19          bmw  \n",
      "3    automatic  pickup       white    1.0  2018-10-19          50         ford  \n",
      "4    automatic   sedan         red    NaN  2019-02-07          79      hyundai  \n",
      "5    automatic  pickup         NaN    NaN  2019-03-22           9         ford  \n",
      "6    automatic   sedan       black    NaN  2019-04-02          28     chrysler  \n"
     ]
    }
   ],
   "source": [
    "import streamlit as st\n",
    "import pandas as pd \n",
    "import plotly.express as px\n",
    "\n",
    "column_names= [\"price\", \"model_year\", \"model\", \"condition\", \"cylinders\", \"fuel\", \"odometer\", \"transmission\", \"type\", \"paint_color\", \"is_4wd\", \"date_posted\", \"days_listed\"]\n",
    "\n",
    "\n",
    "df = pd.read_csv('/Users/jeffreyheller/Desktop/Dev_Tools_Project/vehicles_us.csv', sep =',', header=None, names=column_names)\n",
    "\n",
    "df = df.iloc[2:]\n",
    "\n",
    "df['manufacturer'] = df['model'].apply(lambda x: x.split()[0])\n",
    "\n",
    "print(df.head(5))\n",
    "\n",
    "#the csv file was assuming the header of the file to be the first row of data. \n",
    "# the file was opened and column names were assigned above to be able to more accurately work with the data. \n"
   ]
  },
  {
   "cell_type": "code",
   "execution_count": null,
   "metadata": {},
   "outputs": [
    {
     "name": "stdout",
     "output_type": "stream",
     "text": [
      "(51525, 14)\n"
     ]
    }
   ],
   "source": [
    "print(df.shape)\n"
   ]
  },
  {
   "cell_type": "code",
   "execution_count": null,
   "metadata": {},
   "outputs": [
    {
     "name": "stdout",
     "output_type": "stream",
     "text": [
      "<bound method NDFrame.describe of        price model_year           model  condition cylinders fuel  odometer  \\\n",
      "2       9400     2011.0          bmw x5       good         6  gas  145000.0   \n",
      "3      25500        NaN      ford f-150       good         6  gas   88705.0   \n",
      "4       5500     2013.0  hyundai sonata   like new         4  gas  110000.0   \n",
      "5       1500     2003.0      ford f-150       fair         8  gas       NaN   \n",
      "6      14900     2017.0    chrysler 200  excellent         4  gas   80903.0   \n",
      "...      ...        ...             ...        ...       ...  ...       ...   \n",
      "51522   9249     2013.0   nissan maxima   like new         6  gas   88136.0   \n",
      "51523   2700     2002.0     honda civic    salvage         4  gas  181500.0   \n",
      "51524   3950     2009.0  hyundai sonata  excellent         4  gas  128000.0   \n",
      "51525   7455     2013.0  toyota corolla       good         4  gas  139573.0   \n",
      "51526   6300     2014.0   nissan altima       good         4  gas       NaN   \n",
      "\n",
      "      transmission    type paint_color is_4wd date_posted days_listed  \\\n",
      "2        automatic     SUV         NaN    1.0  2018-06-23          19   \n",
      "3        automatic  pickup       white    1.0  2018-10-19          50   \n",
      "4        automatic   sedan         red    NaN  2019-02-07          79   \n",
      "5        automatic  pickup         NaN    NaN  2019-03-22           9   \n",
      "6        automatic   sedan       black    NaN  2019-04-02          28   \n",
      "...            ...     ...         ...    ...         ...         ...   \n",
      "51522    automatic   sedan       black    NaN  2018-10-03          37   \n",
      "51523    automatic   sedan       white    NaN  2018-11-14          22   \n",
      "51524    automatic   sedan        blue    NaN  2018-11-15          32   \n",
      "51525    automatic   sedan       black    NaN  2018-07-02          71   \n",
      "51526    automatic   sedan         NaN    NaN  2018-06-05          10   \n",
      "\n",
      "      manufacturer  \n",
      "2              bmw  \n",
      "3             ford  \n",
      "4          hyundai  \n",
      "5             ford  \n",
      "6         chrysler  \n",
      "...            ...  \n",
      "51522       nissan  \n",
      "51523        honda  \n",
      "51524      hyundai  \n",
      "51525       toyota  \n",
      "51526       nissan  \n",
      "\n",
      "[51525 rows x 14 columns]>\n"
     ]
    }
   ],
   "source": [
    "print(df.describe)"
   ]
  },
  {
   "cell_type": "code",
   "execution_count": null,
   "metadata": {},
   "outputs": [
    {
     "data": {
      "text/plain": [
       "price               0\n",
       "model_year       3619\n",
       "model               0\n",
       "condition           0\n",
       "cylinders        5260\n",
       "fuel                0\n",
       "odometer         7892\n",
       "transmission        0\n",
       "type                0\n",
       "paint_color      9267\n",
       "is_4wd          25953\n",
       "date_posted         0\n",
       "days_listed         0\n",
       "manufacturer        0\n",
       "dtype: int64"
      ]
     },
     "execution_count": 43,
     "metadata": {},
     "output_type": "execute_result"
    }
   ],
   "source": [
    "df.isnull().sum()\n",
    "\n",
    "#'is_4wd' is a binary value (yes/no) but is represented by either 1.0(yes) or 'Nan'(no)\n"
   ]
  },
  {
   "cell_type": "code",
   "execution_count": null,
   "metadata": {},
   "outputs": [
    {
     "name": "stdout",
     "output_type": "stream",
     "text": [
      "model\n",
      "ford f-150                           2796\n",
      "chevrolet silverado 1500             2171\n",
      "ram 1500                             1750\n",
      "chevrolet silverado                  1271\n",
      "jeep wrangler                        1119\n",
      "                                     ... \n",
      "ford f-250 super duty                 241\n",
      "acura tl                              236\n",
      "kia sorento                           236\n",
      "nissan murano                         235\n",
      "mercedes-benz benze sprinter 2500      41\n",
      "Name: count, Length: 100, dtype: int64\n"
     ]
    }
   ],
   "source": [
    "#The following lines of code are to identify if any duplicate errors exist amongst the int type values. \n",
    "\n",
    "print(df['model'].value_counts())\n",
    "\n"
   ]
  },
  {
   "cell_type": "code",
   "execution_count": null,
   "metadata": {},
   "outputs": [
    {
     "name": "stdout",
     "output_type": "stream",
     "text": [
      "manufacturer\n",
      "ford             12672\n",
      "chevrolet        10611\n",
      "toyota            5445\n",
      "honda             3485\n",
      "ram               3316\n",
      "jeep              3281\n",
      "nissan            3208\n",
      "gmc               2378\n",
      "subaru            1272\n",
      "dodge             1255\n",
      "hyundai           1173\n",
      "volkswagen         869\n",
      "chrysler           838\n",
      "kia                585\n",
      "cadillac           322\n",
      "buick              271\n",
      "bmw                267\n",
      "acura              236\n",
      "mercedes-benz       41\n",
      "Name: count, dtype: int64\n",
      "\n",
      "paint_color\n",
      "white     10029\n",
      "black      7692\n",
      "silver     6244\n",
      "grey       5037\n",
      "blue       4475\n",
      "red        4421\n",
      "green      1396\n",
      "brown      1223\n",
      "custom     1153\n",
      "yellow      255\n",
      "orange      231\n",
      "purple      102\n",
      "Name: count, dtype: int64\n",
      "\n",
      "condition\n",
      "excellent    24773\n",
      "good         20145\n",
      "like new      4742\n",
      "fair          1607\n",
      "new            143\n",
      "salvage        115\n",
      "Name: count, dtype: int64\n",
      "\n",
      "fuel\n",
      "gas         47288\n",
      "diesel       3714\n",
      "hybrid        409\n",
      "other         108\n",
      "electric        6\n",
      "Name: count, dtype: int64\n",
      "\n",
      "transmission\n",
      "automatic    46902\n",
      "manual        2829\n",
      "other         1794\n",
      "Name: count, dtype: int64\n",
      "\n",
      "type\n",
      "SUV            12405\n",
      "truck          12353\n",
      "sedan          12154\n",
      "pickup          6988\n",
      "coupe           2303\n",
      "wagon           1541\n",
      "mini-van        1161\n",
      "hatchback       1047\n",
      "van              633\n",
      "convertible      446\n",
      "other            256\n",
      "offroad          214\n",
      "bus               24\n",
      "Name: count, dtype: int64\n",
      "\n",
      "paint_color\n",
      "white     10029\n",
      "black      7692\n",
      "silver     6244\n",
      "grey       5037\n",
      "blue       4475\n",
      "red        4421\n",
      "green      1396\n",
      "brown      1223\n",
      "custom     1153\n",
      "yellow      255\n",
      "orange      231\n",
      "purple      102\n",
      "Name: count, dtype: int64\n"
     ]
    }
   ],
   "source": [
    "print(df['manufacturer'].value_counts())\n",
    "print()\n",
    "print(df['paint_color'].value_counts())\n",
    "print()\n",
    "print(df['condition'].value_counts())\n",
    "print()\n",
    "print(df['fuel'].value_counts())\n",
    "print()\n",
    "print(df['transmission'].value_counts())\n",
    "print()\n",
    "print(df['type'].value_counts())\n",
    "print()\n",
    "print(df['paint_color'].value_counts())"
   ]
  },
  {
   "cell_type": "code",
   "execution_count": null,
   "metadata": {},
   "outputs": [],
   "source": [
    "# the data set carries negligable amounts of mercedes-benz's, many of which have missing data in the other categories. \n",
    "# for my purposes here im going to exclude all rows that include 'mercedes-benz' in the manufacturer column \n",
    "df = df[df['manufacturer'] != 'mercedes-benz']\n"
   ]
  },
  {
   "cell_type": "code",
   "execution_count": null,
   "metadata": {},
   "outputs": [],
   "source": [
    "# rows with NaN values are also not going to be included in any of the analysis\n",
    "df = df.dropna()\n",
    "\n",
    "# Reset the index after removing rows\n",
    "df.reset_index(drop=True, inplace=True)"
   ]
  }
 ],
 "metadata": {
  "kernelspec": {
   "display_name": "Python 3",
   "language": "python",
   "name": "python3"
  },
  "language_info": {
   "codemirror_mode": {
    "name": "ipython",
    "version": 3
   },
   "file_extension": ".py",
   "mimetype": "text/x-python",
   "name": "python",
   "nbconvert_exporter": "python",
   "pygments_lexer": "ipython3",
   "version": "3.11.4"
  },
  "orig_nbformat": 4
 },
 "nbformat": 4,
 "nbformat_minor": 2
}
