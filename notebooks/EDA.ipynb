{
 "cells": [
  {
   "cell_type": "markdown",
   "metadata": {},
   "source": [
    "# Dev_Tools_Project Exploratory Data Analysys of 'vehicles_us.csv'"
   ]
  },
  {
   "cell_type": "markdown",
   "metadata": {},
   "source": [
    "## Application Overview\n",
    "\n",
    "This application seeks to analyze data of car sales in the US.\n",
    "\n",
    "More specifically, it will illustrate the following:\n",
    "A) The average miles on the odometer per vehicle based on the manufacturer\n",
    "B) The correlation between Odometer reading and Days on Market\n",
    "C) The condition distribution between Manufacturers with the option to filter for both 4wd and non-4wd vehicles\n",
    "\n",
    "\n",
    "Libraries used:\n",
    "Streamlit\n",
    "Pandas\n",
    "Plotly.Express\n"
   ]
  },
  {
   "cell_type": "markdown",
   "metadata": {},
   "source": [
    "### Our Vehicle Dataset\n",
    "\n",
    "The dataset we'll be exploring contains a wealth of information about vehicles, including their prices, model years, conditions, fuel types, odometer readings, and more. Each row represents a unique vehicle listing."
   ]
  },
  {
   "cell_type": "code",
   "execution_count": 133,
   "metadata": {},
   "outputs": [],
   "source": [
    "import streamlit as st\n",
    "import pandas as pd \n",
    "import plotly.express as px\n",
    "\n",
    "column_names= [\"price\", \"model_year\", \"model\", \"condition\", \"cylinders\", \"fuel\", \"odometer\", \"transmission\", \"type\", \"paint_color\", \"is_4wd\", \"date_posted\", \"days_listed\"]\n",
    "\n",
    "\n",
    "df = pd.read_csv('/Users/jeffreyheller/Desktop/Dev_Tools_Project/vehicles_us.csv', sep =',', header=None, names=column_names)\n",
    "\n",
    "df = df.iloc[2:]\n",
    "\n",
    "df['manufacturer'] = df['model'].apply(lambda x: x.split()[0])\n",
    "\n",
    "\n",
    "# the csv file was assuming the header of the file to be the first row of data. \n",
    "# the file was opened and column names were assigned above to be able to more accurately work with the data. \n"
   ]
  },
  {
   "cell_type": "markdown",
   "metadata": {},
   "source": [
    "## Checking for Basic Data Structure and Information\n"
   ]
  },
  {
   "cell_type": "code",
   "execution_count": 134,
   "metadata": {},
   "outputs": [
    {
     "data": {
      "text/plain": [
       "<bound method NDFrame.describe of        price model_year           model  condition cylinders fuel  odometer  \\\n",
       "2       9400     2011.0          bmw x5       good         6  gas  145000.0   \n",
       "3      25500        NaN      ford f-150       good         6  gas   88705.0   \n",
       "4       5500     2013.0  hyundai sonata   like new         4  gas  110000.0   \n",
       "5       1500     2003.0      ford f-150       fair         8  gas       NaN   \n",
       "6      14900     2017.0    chrysler 200  excellent         4  gas   80903.0   \n",
       "...      ...        ...             ...        ...       ...  ...       ...   \n",
       "51522   9249     2013.0   nissan maxima   like new         6  gas   88136.0   \n",
       "51523   2700     2002.0     honda civic    salvage         4  gas  181500.0   \n",
       "51524   3950     2009.0  hyundai sonata  excellent         4  gas  128000.0   \n",
       "51525   7455     2013.0  toyota corolla       good         4  gas  139573.0   \n",
       "51526   6300     2014.0   nissan altima       good         4  gas       NaN   \n",
       "\n",
       "      transmission    type paint_color is_4wd date_posted days_listed  \\\n",
       "2        automatic     SUV         NaN    1.0  2018-06-23          19   \n",
       "3        automatic  pickup       white    1.0  2018-10-19          50   \n",
       "4        automatic   sedan         red    NaN  2019-02-07          79   \n",
       "5        automatic  pickup         NaN    NaN  2019-03-22           9   \n",
       "6        automatic   sedan       black    NaN  2019-04-02          28   \n",
       "...            ...     ...         ...    ...         ...         ...   \n",
       "51522    automatic   sedan       black    NaN  2018-10-03          37   \n",
       "51523    automatic   sedan       white    NaN  2018-11-14          22   \n",
       "51524    automatic   sedan        blue    NaN  2018-11-15          32   \n",
       "51525    automatic   sedan       black    NaN  2018-07-02          71   \n",
       "51526    automatic   sedan         NaN    NaN  2018-06-05          10   \n",
       "\n",
       "      manufacturer  \n",
       "2              bmw  \n",
       "3             ford  \n",
       "4          hyundai  \n",
       "5             ford  \n",
       "6         chrysler  \n",
       "...            ...  \n",
       "51522       nissan  \n",
       "51523        honda  \n",
       "51524      hyundai  \n",
       "51525       toyota  \n",
       "51526       nissan  \n",
       "\n",
       "[51525 rows x 14 columns]>"
      ]
     },
     "metadata": {},
     "output_type": "display_data"
    },
    {
     "data": {
      "text/html": [
       "<div>\n",
       "<style scoped>\n",
       "    .dataframe tbody tr th:only-of-type {\n",
       "        vertical-align: middle;\n",
       "    }\n",
       "\n",
       "    .dataframe tbody tr th {\n",
       "        vertical-align: top;\n",
       "    }\n",
       "\n",
       "    .dataframe thead th {\n",
       "        text-align: right;\n",
       "    }\n",
       "</style>\n",
       "<table border=\"1\" class=\"dataframe\">\n",
       "  <thead>\n",
       "    <tr style=\"text-align: right;\">\n",
       "      <th></th>\n",
       "      <th>price</th>\n",
       "      <th>model_year</th>\n",
       "      <th>model</th>\n",
       "      <th>condition</th>\n",
       "      <th>cylinders</th>\n",
       "      <th>fuel</th>\n",
       "      <th>odometer</th>\n",
       "      <th>transmission</th>\n",
       "      <th>type</th>\n",
       "      <th>paint_color</th>\n",
       "      <th>is_4wd</th>\n",
       "      <th>date_posted</th>\n",
       "      <th>days_listed</th>\n",
       "      <th>manufacturer</th>\n",
       "    </tr>\n",
       "  </thead>\n",
       "  <tbody>\n",
       "    <tr>\n",
       "      <th>2</th>\n",
       "      <td>9400</td>\n",
       "      <td>2011.0</td>\n",
       "      <td>bmw x5</td>\n",
       "      <td>good</td>\n",
       "      <td>6</td>\n",
       "      <td>gas</td>\n",
       "      <td>145000.0</td>\n",
       "      <td>automatic</td>\n",
       "      <td>SUV</td>\n",
       "      <td>NaN</td>\n",
       "      <td>1.0</td>\n",
       "      <td>2018-06-23</td>\n",
       "      <td>19</td>\n",
       "      <td>bmw</td>\n",
       "    </tr>\n",
       "    <tr>\n",
       "      <th>3</th>\n",
       "      <td>25500</td>\n",
       "      <td>NaN</td>\n",
       "      <td>ford f-150</td>\n",
       "      <td>good</td>\n",
       "      <td>6</td>\n",
       "      <td>gas</td>\n",
       "      <td>88705.0</td>\n",
       "      <td>automatic</td>\n",
       "      <td>pickup</td>\n",
       "      <td>white</td>\n",
       "      <td>1.0</td>\n",
       "      <td>2018-10-19</td>\n",
       "      <td>50</td>\n",
       "      <td>ford</td>\n",
       "    </tr>\n",
       "    <tr>\n",
       "      <th>4</th>\n",
       "      <td>5500</td>\n",
       "      <td>2013.0</td>\n",
       "      <td>hyundai sonata</td>\n",
       "      <td>like new</td>\n",
       "      <td>4</td>\n",
       "      <td>gas</td>\n",
       "      <td>110000.0</td>\n",
       "      <td>automatic</td>\n",
       "      <td>sedan</td>\n",
       "      <td>red</td>\n",
       "      <td>NaN</td>\n",
       "      <td>2019-02-07</td>\n",
       "      <td>79</td>\n",
       "      <td>hyundai</td>\n",
       "    </tr>\n",
       "    <tr>\n",
       "      <th>5</th>\n",
       "      <td>1500</td>\n",
       "      <td>2003.0</td>\n",
       "      <td>ford f-150</td>\n",
       "      <td>fair</td>\n",
       "      <td>8</td>\n",
       "      <td>gas</td>\n",
       "      <td>NaN</td>\n",
       "      <td>automatic</td>\n",
       "      <td>pickup</td>\n",
       "      <td>NaN</td>\n",
       "      <td>NaN</td>\n",
       "      <td>2019-03-22</td>\n",
       "      <td>9</td>\n",
       "      <td>ford</td>\n",
       "    </tr>\n",
       "    <tr>\n",
       "      <th>6</th>\n",
       "      <td>14900</td>\n",
       "      <td>2017.0</td>\n",
       "      <td>chrysler 200</td>\n",
       "      <td>excellent</td>\n",
       "      <td>4</td>\n",
       "      <td>gas</td>\n",
       "      <td>80903.0</td>\n",
       "      <td>automatic</td>\n",
       "      <td>sedan</td>\n",
       "      <td>black</td>\n",
       "      <td>NaN</td>\n",
       "      <td>2019-04-02</td>\n",
       "      <td>28</td>\n",
       "      <td>chrysler</td>\n",
       "    </tr>\n",
       "  </tbody>\n",
       "</table>\n",
       "</div>"
      ],
      "text/plain": [
       "   price model_year           model  condition cylinders fuel  odometer  \\\n",
       "2   9400     2011.0          bmw x5       good         6  gas  145000.0   \n",
       "3  25500        NaN      ford f-150       good         6  gas   88705.0   \n",
       "4   5500     2013.0  hyundai sonata   like new         4  gas  110000.0   \n",
       "5   1500     2003.0      ford f-150       fair         8  gas       NaN   \n",
       "6  14900     2017.0    chrysler 200  excellent         4  gas   80903.0   \n",
       "\n",
       "  transmission    type paint_color is_4wd date_posted days_listed manufacturer  \n",
       "2    automatic     SUV         NaN    1.0  2018-06-23          19          bmw  \n",
       "3    automatic  pickup       white    1.0  2018-10-19          50         ford  \n",
       "4    automatic   sedan         red    NaN  2019-02-07          79      hyundai  \n",
       "5    automatic  pickup         NaN    NaN  2019-03-22           9         ford  \n",
       "6    automatic   sedan       black    NaN  2019-04-02          28     chrysler  "
      ]
     },
     "metadata": {},
     "output_type": "display_data"
    },
    {
     "data": {
      "text/plain": [
       "(51525, 14)"
      ]
     },
     "metadata": {},
     "output_type": "display_data"
    }
   ],
   "source": [
    "display(df.describe)\n",
    "display(df.head(5))\n",
    "display(df.shape)\n"
   ]
  },
  {
   "cell_type": "markdown",
   "metadata": {},
   "source": [
    "## Checking for Duplicates\n"
   ]
  },
  {
   "cell_type": "code",
   "execution_count": 135,
   "metadata": {},
   "outputs": [
    {
     "data": {
      "text/plain": [
       "'No duplicate rows found.'"
      ]
     },
     "metadata": {},
     "output_type": "display_data"
    }
   ],
   "source": [
    "# Check for duplicate rows\n",
    "duplicate_rows = df[df.duplicated()]\n",
    "\n",
    "# Display the duplicate rows\n",
    "if not duplicate_rows.empty:\n",
    "    display(\"Duplicate Rows:\")\n",
    "    display(duplicate_rows)\n",
    "else:\n",
    "    display(\"No duplicate rows found.\")\n"
   ]
  },
  {
   "cell_type": "markdown",
   "metadata": {},
   "source": [
    "## The following code is a redundancy for duplicate checking. "
   ]
  },
  {
   "cell_type": "code",
   "execution_count": 136,
   "metadata": {},
   "outputs": [
    {
     "data": {
      "text/plain": [
       "manufacturer\n",
       "ford             12672\n",
       "chevrolet        10611\n",
       "toyota            5445\n",
       "honda             3485\n",
       "ram               3316\n",
       "jeep              3281\n",
       "nissan            3208\n",
       "gmc               2378\n",
       "subaru            1272\n",
       "dodge             1255\n",
       "hyundai           1173\n",
       "volkswagen         869\n",
       "chrysler           838\n",
       "kia                585\n",
       "cadillac           322\n",
       "buick              271\n",
       "bmw                267\n",
       "acura              236\n",
       "mercedes-benz       41\n",
       "Name: count, dtype: int64"
      ]
     },
     "metadata": {},
     "output_type": "display_data"
    },
    {
     "data": {
      "text/plain": [
       "paint_color\n",
       "white     10029\n",
       "black      7692\n",
       "silver     6244\n",
       "grey       5037\n",
       "blue       4475\n",
       "red        4421\n",
       "green      1396\n",
       "brown      1223\n",
       "custom     1153\n",
       "yellow      255\n",
       "orange      231\n",
       "purple      102\n",
       "Name: count, dtype: int64"
      ]
     },
     "metadata": {},
     "output_type": "display_data"
    },
    {
     "data": {
      "text/plain": [
       "condition\n",
       "excellent    24773\n",
       "good         20145\n",
       "like new      4742\n",
       "fair          1607\n",
       "new            143\n",
       "salvage        115\n",
       "Name: count, dtype: int64"
      ]
     },
     "metadata": {},
     "output_type": "display_data"
    },
    {
     "data": {
      "text/plain": [
       "fuel\n",
       "gas         47288\n",
       "diesel       3714\n",
       "hybrid        409\n",
       "other         108\n",
       "electric        6\n",
       "Name: count, dtype: int64"
      ]
     },
     "metadata": {},
     "output_type": "display_data"
    },
    {
     "data": {
      "text/plain": [
       "transmission\n",
       "automatic    46902\n",
       "manual        2829\n",
       "other         1794\n",
       "Name: count, dtype: int64"
      ]
     },
     "metadata": {},
     "output_type": "display_data"
    },
    {
     "data": {
      "text/plain": [
       "type\n",
       "SUV            12405\n",
       "truck          12353\n",
       "sedan          12154\n",
       "pickup          6988\n",
       "coupe           2303\n",
       "wagon           1541\n",
       "mini-van        1161\n",
       "hatchback       1047\n",
       "van              633\n",
       "convertible      446\n",
       "other            256\n",
       "offroad          214\n",
       "bus               24\n",
       "Name: count, dtype: int64"
      ]
     },
     "metadata": {},
     "output_type": "display_data"
    },
    {
     "data": {
      "text/plain": [
       "paint_color\n",
       "white     10029\n",
       "black      7692\n",
       "silver     6244\n",
       "grey       5037\n",
       "blue       4475\n",
       "red        4421\n",
       "green      1396\n",
       "brown      1223\n",
       "custom     1153\n",
       "yellow      255\n",
       "orange      231\n",
       "purple      102\n",
       "Name: count, dtype: int64"
      ]
     },
     "metadata": {},
     "output_type": "display_data"
    }
   ],
   "source": [
    "# Checking for duplicates within each category of the df\n",
    "\n",
    "display(df['manufacturer'].value_counts())\n",
    "display()\n",
    "display(df['paint_color'].value_counts())\n",
    "display()\n",
    "display(df['condition'].value_counts())\n",
    "display()\n",
    "display(df['fuel'].value_counts())\n",
    "display()\n",
    "display(df['transmission'].value_counts())\n",
    "display()\n",
    "display(df['type'].value_counts())\n",
    "display()\n",
    "display(df['paint_color'].value_counts())"
   ]
  },
  {
   "cell_type": "markdown",
   "metadata": {},
   "source": [
    "## Looking for Gaps in DataFrame"
   ]
  },
  {
   "cell_type": "code",
   "execution_count": 137,
   "metadata": {},
   "outputs": [
    {
     "data": {
      "text/plain": [
       "price               0\n",
       "model_year       3619\n",
       "model               0\n",
       "condition           0\n",
       "cylinders        5260\n",
       "fuel                0\n",
       "odometer         7892\n",
       "transmission        0\n",
       "type                0\n",
       "paint_color      9267\n",
       "is_4wd          25953\n",
       "date_posted         0\n",
       "days_listed         0\n",
       "manufacturer        0\n",
       "dtype: int64"
      ]
     },
     "execution_count": 137,
     "metadata": {},
     "output_type": "execute_result"
    }
   ],
   "source": [
    "df.isnull().sum()\n",
    "\n",
    "#'is_4wd' is a binary value (yes/no) but is represented by either 1.0(yes) or 'Nan'(no)\n"
   ]
  },
  {
   "cell_type": "code",
   "execution_count": 138,
   "metadata": {},
   "outputs": [],
   "source": [
    "# the data set carries negligable amounts of mercedes-benz's, many of which have missing data in the other categories. \n",
    "# for my purposes here im going to exclude all rows that include 'mercedes-benz' in the manufacturer column \n",
    "df = df[df['manufacturer'] != 'mercedes-benz']\n"
   ]
  },
  {
   "cell_type": "markdown",
   "metadata": {},
   "source": [
    "## Adjusting Gaps in DF"
   ]
  },
  {
   "cell_type": "markdown",
   "metadata": {},
   "source": [
    "### I've adjusted the \"Nan\" values in the \"cylinder\" column to have the median value based on \"model\" and \"model_year\" values. "
   ]
  },
  {
   "cell_type": "code",
   "execution_count": 139,
   "metadata": {},
   "outputs": [],
   "source": [
    "# converting the 'cylinders' column to numeric, replacing non-numeric values with NaN\n",
    "df['cylinders'] = pd.to_numeric(df['cylinders'], errors='coerce')\n",
    "\n",
    "# median cylinders for each group of model and model_year\n",
    "median_cylinders = df.groupby(['model', 'model_year'])['cylinders'].transform('median')\n",
    "\n",
    "df['cylinders'].fillna(median_cylinders, inplace=True)\n"
   ]
  },
  {
   "cell_type": "markdown",
   "metadata": {},
   "source": [
    "### I will use the same method to fill in the missing values for \"odometer\" based on the median values between \"condition\" and \"model_year\" "
   ]
  },
  {
   "cell_type": "code",
   "execution_count": 140,
   "metadata": {},
   "outputs": [],
   "source": [
    "# Convert the 'odometer' column to numeric, replacing non-numeric values with NaN\n",
    "df['odometer'] = pd.to_numeric(df['odometer'], errors='coerce')\n",
    "\n",
    "# Calculate the median odometer for each group of model_year and condition\n",
    "median_odometer = df.groupby(['model_year', 'condition'])['odometer'].transform('median')\n",
    "\n",
    "# Fill NaN values in the 'odometer' column with the calculated medians\n",
    "df['odometer'].fillna(median_odometer, inplace=True)\n"
   ]
  },
  {
   "cell_type": "markdown",
   "metadata": {},
   "source": [
    "### Finally, I'll use the same method to fill the missing values for the \"model_year\" column using  the median grouped values of \"condition\" and \"model\" "
   ]
  },
  {
   "cell_type": "code",
   "execution_count": 141,
   "metadata": {},
   "outputs": [],
   "source": [
    "df['model_year'] = pd.to_numeric(df['model_year'], errors= 'coerce')\n",
    "\n",
    "median_model_year = df.groupby(['condition', 'model'])['model_year'].transform('median')\n",
    "\n",
    "df['model_year'].fillna(median_model_year, inplace=True)"
   ]
  },
  {
   "cell_type": "code",
   "execution_count": 142,
   "metadata": {},
   "outputs": [
    {
     "data": {
      "text/plain": [
       "price               0\n",
       "model_year          6\n",
       "model               0\n",
       "condition           0\n",
       "cylinders         385\n",
       "fuel                0\n",
       "odometer          549\n",
       "transmission        0\n",
       "type                0\n",
       "paint_color      9260\n",
       "is_4wd          25912\n",
       "date_posted         0\n",
       "days_listed         0\n",
       "manufacturer        0\n",
       "dtype: int64"
      ]
     },
     "execution_count": 142,
     "metadata": {},
     "output_type": "execute_result"
    }
   ],
   "source": [
    "df.isnull().sum()\n"
   ]
  },
  {
   "cell_type": "markdown",
   "metadata": {},
   "source": [
    "### There were still some missing values for the 'odometer' column so I've filled the remaining missing values with median value of the entire column. \n"
   ]
  },
  {
   "cell_type": "code",
   "execution_count": 143,
   "metadata": {},
   "outputs": [],
   "source": [
    "# Calculate the median of the entire 'odometer' column\n",
    "overall_median_odometer = df['odometer'].median()\n",
    "\n",
    "# Fill remaining NaN values in the 'odometer' column with the overall median\n",
    "df['odometer'].fillna(overall_median_odometer, inplace=True)\n"
   ]
  },
  {
   "cell_type": "markdown",
   "metadata": {},
   "source": [
    "## Final Cleaning"
   ]
  },
  {
   "cell_type": "markdown",
   "metadata": {},
   "source": [
    "### Checking for any remaining 'nan' values"
   ]
  },
  {
   "cell_type": "code",
   "execution_count": 144,
   "metadata": {},
   "outputs": [
    {
     "data": {
      "text/plain": [
       "price               0\n",
       "model_year          6\n",
       "model               0\n",
       "condition           0\n",
       "cylinders         385\n",
       "fuel                0\n",
       "odometer            0\n",
       "transmission        0\n",
       "type                0\n",
       "paint_color      9260\n",
       "is_4wd          25912\n",
       "date_posted         0\n",
       "days_listed         0\n",
       "manufacturer        0\n",
       "dtype: int64"
      ]
     },
     "execution_count": 144,
     "metadata": {},
     "output_type": "execute_result"
    }
   ],
   "source": [
    "df.isnull().sum()"
   ]
  },
  {
   "cell_type": "markdown",
   "metadata": {},
   "source": [
    "### Dropping the remaining rows with 'nan' values in 'model_year' and 'cylinders'\n"
   ]
  },
  {
   "cell_type": "code",
   "execution_count": 149,
   "metadata": {},
   "outputs": [
    {
     "data": {
      "text/plain": [
       "price               0\n",
       "model_year          0\n",
       "model               0\n",
       "condition           0\n",
       "cylinders           0\n",
       "fuel                0\n",
       "odometer            0\n",
       "transmission        0\n",
       "type                0\n",
       "paint_color      9206\n",
       "is_4wd          25719\n",
       "date_posted         0\n",
       "days_listed         0\n",
       "manufacturer        0\n",
       "dtype: int64"
      ]
     },
     "execution_count": 149,
     "metadata": {},
     "output_type": "execute_result"
    }
   ],
   "source": [
    "df.dropna(subset=['model_year'], inplace=True)\n",
    "df.dropna(subset=['cylinders'], inplace=True)\n",
    "\n",
    "df.isnull().sum()"
   ]
  },
  {
   "cell_type": "markdown",
   "metadata": {},
   "source": [
    "### Lookign for Data Types to make sure that the Data will be easy to work with."
   ]
  },
  {
   "cell_type": "code",
   "execution_count": 145,
   "metadata": {},
   "outputs": [
    {
     "data": {
      "text/plain": [
       "price            object\n",
       "model_year      float64\n",
       "model            object\n",
       "condition        object\n",
       "cylinders       float64\n",
       "fuel             object\n",
       "odometer        float64\n",
       "transmission     object\n",
       "type             object\n",
       "paint_color      object\n",
       "is_4wd           object\n",
       "date_posted      object\n",
       "days_listed      object\n",
       "manufacturer     object\n",
       "dtype: object"
      ]
     },
     "execution_count": 145,
     "metadata": {},
     "output_type": "execute_result"
    }
   ],
   "source": [
    "df.dtypes"
   ]
  },
  {
   "cell_type": "markdown",
   "metadata": {},
   "source": [
    "### 'Object' and 'Float' types will be converted to 'int' types where appropriate for ease with code later on."
   ]
  },
  {
   "cell_type": "code",
   "execution_count": 150,
   "metadata": {},
   "outputs": [],
   "source": [
    "df['price']=df['price'].astype(int)\n",
    "\n",
    "df['model_year']=df['model_year'].astype(int)\n",
    "\n",
    "df['cylinders']=df['cylinders'].astype(int)\n",
    "\n",
    "df['odometer']=df['odometer'].astype(int)\n",
    "\n"
   ]
  },
  {
   "cell_type": "code",
   "execution_count": null,
   "metadata": {},
   "outputs": [],
   "source": [
    "# Save the edited DataFrame to a CSV file\n",
    "df.to_csv('post_eda_us_vehicle.csv', index=False)"
   ]
  },
  {
   "cell_type": "markdown",
   "metadata": {},
   "source": [
    "### There are still some missing values in both the 'cylinders' and 'odometer' columns but not enought to be concerned with for analysis purposes"
   ]
  },
  {
   "cell_type": "markdown",
   "metadata": {},
   "source": [
    "# Conclusions"
   ]
  },
  {
   "cell_type": "markdown",
   "metadata": {},
   "source": [
    "### The DF offers full and comprehensive data regarding the inventory of vehicles in the United States. \n",
    "\n",
    "### Based on graphs present in the application, there are a few conclusions we can make about this data\n",
    "\n",
    "### 1. Acura, Toyota, GMC, and Honda all have the highest average (in order) milage-per-vehicle. We might be able to make an inferrence that cars from these manufacturers have a tendency to last longer and be more reliable. Further analysis would be required to confirm this. \n",
    "\n",
    "### 2. There is a positive correlation between the miles on the odometer of a vehicle and the days that is spends on-market. This shouldnt come as a surprise at all. \n",
    "\n",
    "### 3. Further analysis of the \"condition\" distribution between manufacturers reveals a lot more details concerning the inference made on the first conclusion. One revelation in particular is that when the condition distribution between Honda and Toyota is illustrated, even though Honda has a higher average mileage per vehicle, Toyota has roughly 40%-50% more units in better condition either on the road or in the market. "
   ]
  },
  {
   "cell_type": "markdown",
   "metadata": {},
   "source": []
  }
 ],
 "metadata": {
  "kernelspec": {
   "display_name": "Python 3",
   "language": "python",
   "name": "python3"
  },
  "language_info": {
   "codemirror_mode": {
    "name": "ipython",
    "version": 3
   },
   "file_extension": ".py",
   "mimetype": "text/x-python",
   "name": "python",
   "nbconvert_exporter": "python",
   "pygments_lexer": "ipython3",
   "version": "3.11.4"
  },
  "orig_nbformat": 4
 },
 "nbformat": 4,
 "nbformat_minor": 2
}
